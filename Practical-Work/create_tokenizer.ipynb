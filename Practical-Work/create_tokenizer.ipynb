{
 "cells": [
  {
   "cell_type": "code",
   "execution_count": null,
   "id": "initial_id",
   "metadata": {
    "collapsed": true
   },
   "outputs": [],
   "source": [
    "from tokenizers import Tokenizer\n",
    "from tokenizers.models import WordPiece\n",
    "from tokenizers.trainers import WordPieceTrainer\n",
    "from tokenizers.pre_tokenizers import Whitespace\n",
    "from transformers import PreTrainedTokenizerFast"
   ]
  },
  {
   "cell_type": "code",
   "outputs": [],
   "source": [
    "# Initialize a WordPiece tokenizer\n",
    "tokenizer = Tokenizer(WordPiece(unk_token=\"[UNK]\"))\n",
    "\n",
    "# Set a pre-tokenizer (splits text into whitespace-separated tokens)\n",
    "tokenizer.pre_tokenizer = Whitespace()\n",
    "\n",
    "# Define a trainer for building the vocabulary\n",
    "trainer = WordPieceTrainer(\n",
    "    vocab_size=5000,  # Adjust size to your needs\n",
    "    special_tokens=[\"[UNK]\", \"[CLS]\", \"[SEP]\", \"[PAD]\", \"[MASK]\"]\n",
    ")\n",
    "\n",
    "# Train the tokenizer on your text data\n",
    "texts = [\n",
    "    \"This is a sample text.\",\n",
    "    \"Creating a custom tokenizer can be useful.\",\n",
    "    \"We are defining our own vocabulary!\"\n",
    "]\n",
    "\n",
    "# Tokenizer expects text files, so write texts to a temporary file\n",
    "with open(\"data.txt\", \"w\") as f:\n",
    "    f.write(\"\\n\".join(texts))\n",
    "\n",
    "tokenizer.train(files=[\"data.txt\"], trainer=trainer)\n",
    "\n",
    "# Wrap the tokenizer for use in Hugging Face\n",
    "hf_tokenizer = PreTrainedTokenizerFast(tokenizer_object=tokenizer)\n",
    "\n",
    "# Save as Hugging Face tokenizer\n",
    "hf_tokenizer.save_pretrained('custom_tokenizer')"
   ],
   "metadata": {
    "collapsed": false
   },
   "id": "cfe792f9748db13c"
  },
  {
   "cell_type": "code",
   "outputs": [],
   "source": [
    "# Example text\n",
    "example_text = \"I am learning how to tokenize text!\"\n",
    "\n",
    "# Tokenize the text\n",
    "encoded = hf_tokenizer(example_text, return_tensors=\"pt\", padding=True, truncation=True)\n",
    "\n",
    "# Print the tokenized output\n",
    "print(encoded)\n",
    "\n",
    "decoded_text = hf_tokenizer.decode(encoded['input_ids'][0])\n",
    "print(decoded_text)"
   ],
   "metadata": {
    "collapsed": false
   },
   "id": "83549801ada3edaa"
  }
 ],
 "metadata": {
  "kernelspec": {
   "display_name": "Python 3",
   "language": "python",
   "name": "python3"
  },
  "language_info": {
   "codemirror_mode": {
    "name": "ipython",
    "version": 2
   },
   "file_extension": ".py",
   "mimetype": "text/x-python",
   "name": "python",
   "nbconvert_exporter": "python",
   "pygments_lexer": "ipython2",
   "version": "2.7.6"
  }
 },
 "nbformat": 4,
 "nbformat_minor": 5
}
