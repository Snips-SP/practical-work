{
 "cells": [
  {
   "cell_type": "code",
   "outputs": [],
   "source": [
    "from transformers import GPT2LMHeadModel, GPT2Config\n",
    "from torch import nn\n",
    "from tqdm import tqdm\n",
    "from torch.optim import AdamW\n",
    "from torch.utils.tensorboard import SummaryWriter\n",
    "import torch\n",
    "from dataloader import CustomEncodingVocabulary, GPT2Dataset"
   ],
   "metadata": {
    "collapsed": false,
    "ExecuteTime": {
     "end_time": "2025-02-04T11:57:57.279304Z",
     "start_time": "2025-02-04T11:57:29.498846Z"
    }
   },
   "id": "cd6e01fa7f4e0a41",
   "execution_count": 1
  },
  {
   "cell_type": "code",
   "outputs": [
    {
     "name": "stdout",
     "output_type": "stream",
     "text": [
      "Vocabulary size: 830\n",
      "Using device: cuda\n"
     ]
    }
   ],
   "source": [
    "# Define the block size (e.g., 1024 tokens for GPT-2)\n",
    "block_size = 1024\n",
    "# Set training parameters\n",
    "num_epochs = 50\n",
    "batch_size = 64\n",
    "\n",
    "\n",
    "vocabulary = CustomEncodingVocabulary().tokens\n",
    "print(f'Vocabulary size: {len(vocabulary)}')\n",
    "\n",
    "config = GPT2Config(\n",
    "    vocab_size=len(vocabulary),    # Size of your vocabulary (adjust to match your tokenizer)\n",
    "    n_positions=1024,    # Maximum sequence length\n",
    "    n_ctx=1024,          # Context window size\n",
    "    n_embd=768,          # Embedding size\n",
    "    n_layer=12,          # Number of transformer layers\n",
    "    n_head=12,           # Number of attention heads\n",
    "    pad_token_id=vocabulary[-1] + 1,  # Set padding token ID (e.g., same as eos_token)\n",
    ")\n",
    "\n",
    "device = torch.device('cuda' if torch.cuda.is_available() else 'cpu')\n",
    "print('Using device:', device)"
   ],
   "metadata": {
    "collapsed": false,
    "ExecuteTime": {
     "end_time": "2025-02-04T11:59:54.855173Z",
     "start_time": "2025-02-04T11:59:53.781045Z"
    }
   },
   "id": "87af4c202b7c3c",
   "execution_count": 3
  },
  {
   "cell_type": "code",
   "outputs": [],
   "source": [
    "# Instantiate GPT-2 model\n",
    "model = GPT2LMHeadModel(config)"
   ],
   "metadata": {
    "collapsed": false
   },
   "id": "414d561771df2289"
  },
  {
   "cell_type": "code",
   "outputs": [],
   "source": [
    "# Get dataloader\n",
    "data_loader = GPT2Dataset('ldp_5_dataset')"
   ],
   "metadata": {
    "collapsed": false
   },
   "id": "84999897840c4d5a"
  },
  {
   "cell_type": "code",
   "outputs": [],
   "source": [
    "# Create tensorboard logger\n",
    "writer = SummaryWriter(log_dir='runs/gpt2_text_generation')\n",
    "\n",
    "# Define optimizer and learning rate scheduler\n",
    "optimizer = AdamW(model.parameters(), lr=0.001)\n",
    "num_training_steps = num_epochs * len(data_loader)\n",
    "\n",
    "# Define loss function\n",
    "criterion = nn.CrossEntropyLoss(ignore_index=vocabulary[-1] + 1)\n",
    "\n",
    "# Training loop\n",
    "progress_bar = tqdm(range(num_training_steps))\n",
    "model.train()\n",
    "model.to(device)\n",
    "\n",
    "train_loss = []\n",
    "eval_loss = []\n",
    "for epoch in range(num_epochs):\n",
    "    total_loss = 0\n",
    "    for batch_idx, batch in enumerate(data_loader):\n",
    "        # Get input_ids and labels\n",
    "        input_ids = batch[0].to(device)\n",
    "        attention_mask = batch[1].to(device)\n",
    "        \n",
    "        # Forward pass\n",
    "        outputs = model(input_ids=input_ids, \n",
    "                        attention_mask=attention_mask)\n",
    "        loss = outputs.loss  # GPT-2 directly computes the loss if labels are provided\n",
    "        \n",
    "        # Log the loss\n",
    "        detached_loss = loss.detach().cpu().item()\n",
    "        writer.add_scalar('Loss/train', detached_loss, epoch * len(data_loader) + batch_idx)\n",
    "        total_loss += detached_loss\n",
    "        \n",
    "        # Backward pass\n",
    "        loss.backward()\n",
    "        optimizer.step()\n",
    "        optimizer.zero_grad()\n",
    "        progress_bar.update(1)\n",
    "    \n",
    "    train_loss.append(total_loss)\n",
    "    total_loss = 0\n",
    "\n",
    "print('Training completed!')\n",
    "writer.close()"
   ],
   "metadata": {
    "collapsed": false
   },
   "id": "5ff3da0bebd28913"
  },
  {
   "cell_type": "code",
   "outputs": [],
   "source": [
    "torch.save(model, 'gpt_model.ph')"
   ],
   "metadata": {
    "collapsed": false
   },
   "id": "5e26c322b6954a6f"
  }
 ],
 "metadata": {
  "kernelspec": {
   "display_name": "Python 3",
   "language": "python",
   "name": "python3"
  },
  "language_info": {
   "codemirror_mode": {
    "name": "ipython",
    "version": 2
   },
   "file_extension": ".py",
   "mimetype": "text/x-python",
   "name": "python",
   "nbconvert_exporter": "python",
   "pygments_lexer": "ipython2",
   "version": "2.7.6"
  }
 },
 "nbformat": 4,
 "nbformat_minor": 5
}
