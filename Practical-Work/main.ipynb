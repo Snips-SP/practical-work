{
 "cells": [
  {
   "cell_type": "code",
   "execution_count": null,
   "id": "initial_id",
   "metadata": {
    "collapsed": true
   },
   "outputs": [],
   "source": []
  },
  {
   "cell_type": "code",
   "outputs": [],
   "source": [
    "from transformers import GPT2LMHeadModel, GPT2Config\n",
    "from datasets import load_dataset\n",
    "from torch import nn\n",
    "from tqdm import tqdm\n",
    "from transformers import get_scheduler\n",
    "from torch.optim import AdamW\n",
    "from torch.utils.tensorboard import SummaryWriter\n",
    "import torch\n",
    "from torch.utils.data import DataLoader\n",
    "#  Load the custom tokenizer\n",
    "from transformers import PreTrainedTokenizerFast"
   ],
   "metadata": {
    "collapsed": false
   },
   "id": "cd6e01fa7f4e0a41"
  },
  {
   "cell_type": "code",
   "outputs": [],
   "source": [
    "# Define the block size (e.g., 1024 tokens for GPT-2)\n",
    "block_size = 1024\n",
    "# Set training parameters\n",
    "num_epochs = 50\n",
    "batch_size = 64\n",
    "\n",
    "config = GPT2Config(\n",
    "    vocab_size=50257,    # Size of your vocabulary (adjust to match your tokenizer)\n",
    "    n_positions=1024,    # Maximum sequence length\n",
    "    n_ctx=1024,          # Context window size\n",
    "    n_embd=768,          # Embedding size\n",
    "    n_layer=12,          # Number of transformer layers\n",
    "    n_head=12,           # Number of attention heads\n",
    "    pad_token_id=50256,  # Set padding token ID (e.g., same as eos_token)\n",
    ")\n",
    "\n",
    "device = torch.device('cuda' if torch.cuda.is_available() else 'cpu')\n",
    "print('Using device:', device)"
   ],
   "metadata": {
    "collapsed": false
   },
   "id": "87af4c202b7c3c"
  },
  {
   "cell_type": "code",
   "outputs": [],
   "source": [
    "# Instantiate GPT-2 model\n",
    "model = GPT2LMHeadModel(config)\n",
    "\n",
    "# Load the tokenizer\n",
    "tokenizer = PreTrainedTokenizerFast.from_pretrained('custom_tokenizer')"
   ],
   "metadata": {
    "collapsed": false
   },
   "id": "414d561771df2289"
  },
  {
   "cell_type": "code",
   "outputs": [],
   "source": [
    "# Tokenization function\n",
    "def tokenize_function(examples):\n",
    "    return tokenizer(examples['text'], return_special_tokens_mask=True)\n",
    "\n",
    "# Apply tokenization\n",
    "tokenized_datasets = dataset.map(tokenize_function, batched=True, remove_columns=['text'])"
   ],
   "metadata": {
    "collapsed": false
   },
   "id": "ce29f930510c7d1b"
  },
  {
   "cell_type": "code",
   "outputs": [],
   "source": [
    "# Function to group texts\n",
    "def group_texts(examples):\n",
    "    concatenated = {k: sum(examples[k], []) for k in examples.keys()}  # Concatenate all texts\n",
    "    total_length = len(concatenated['input_ids'])\n",
    "    # Drop the last chunk if it's smaller than block_size\n",
    "    total_length = (total_length // block_size) * block_size\n",
    "    # Split by chunks of block_size\n",
    "    result = {\n",
    "        k: [t[i : i + block_size] for i in range(0, total_length, block_size)]\n",
    "        for k, t in concatenated.items()\n",
    "    }\n",
    "    result['labels'] = result['input_ids'].copy()  # Labels are the same as input_ids for causal LM\n",
    "    return result\n",
    "\n",
    "# Group the tokenized dataset\n",
    "lm_datasets = tokenized_datasets.map(group_texts, batched=True)"
   ],
   "metadata": {
    "collapsed": false
   },
   "id": "d9cc5dd7ef3a64b9"
  },
  {
   "cell_type": "code",
   "outputs": [],
   "source": [
    "# Convert datasets to PyTorch format\n",
    "train_dataset = lm_datasets['train']\n",
    "eval_dataset = lm_datasets['validation']\n",
    "\n",
    "# Create DataLoaders\n",
    "train_dataloader = DataLoader(train_dataset, batch_size=batch_size, shuffle=True)\n",
    "eval_dataloader = DataLoader(eval_dataset, batch_size=batch_size)"
   ],
   "metadata": {
    "collapsed": false
   },
   "id": "84999897840c4d5a"
  },
  {
   "cell_type": "code",
   "outputs": [],
   "source": [
    "# Create tensorboard logger\n",
    "writer = SummaryWriter(log_dir='runs/gpt2_text_generation')\n",
    "\n",
    "# Define optimizer and learning rate scheduler\n",
    "optimizer = AdamW(model.parameters(), lr=5e-5)\n",
    "num_training_steps = num_epochs * len(train_dataloader)\n",
    "lr_scheduler = get_scheduler(\n",
    "    name='linear', optimizer=optimizer, num_warmup_steps=0, num_training_steps=num_training_steps\n",
    ")\n",
    "\n",
    "# Define loss function (CrossEntropyLoss with ignore_index for padding tokens)\n",
    "criterion = nn.CrossEntropyLoss(ignore_index=tokenizer.pad_token_id)\n",
    "\n",
    "# Training loop\n",
    "progress_bar = tqdm(range(num_training_steps))\n",
    "model.train()\n",
    "model.to(device)\n",
    "\n",
    "train_loss = []\n",
    "eval_loss = []\n",
    "for epoch in range(num_epochs):\n",
    "    total_loss = 0\n",
    "    for batch_idx, batch in enumerate(train_dataloader):\n",
    "        # Get input_ids and labels\n",
    "        input_ids = batch['input_ids'].to(device)\n",
    "        attention_mask = batch['attention_mask'].to(device)\n",
    "        labels = batch['labels'].to(device)\n",
    "        \n",
    "        # Forward pass\n",
    "        outputs = model(input_ids=input_ids, \n",
    "                        attention_mask=attention_mask, \n",
    "                        labels=labels)\n",
    "        loss = outputs.loss  # GPT-2 directly computes the loss if labels are provided\n",
    "        \n",
    "        # Log the loss\n",
    "        detached_loss = loss.detach().cpu().item()\n",
    "        writer.add_scalar('Loss/train', detached_loss, epoch * len(train_dataloader) + batch_idx)\n",
    "        total_loss += detached_loss\n",
    "        \n",
    "        # Backward pass\n",
    "        loss.backward()\n",
    "        optimizer.step()\n",
    "        lr_scheduler.step()\n",
    "        optimizer.zero_grad()\n",
    "        progress_bar.update(1)\n",
    "    \n",
    "    train_loss.append(total_loss)\n",
    "    total_loss = 0\n",
    "    \n",
    "    # Evaluation\n",
    "    model.eval()\n",
    "    for batch_idx, batch in enumerate(eval_dataloader):\n",
    "        with torch.no_grad():\n",
    "            input_ids = batch['input_ids'].to(device)\n",
    "            attention_mask = batch['attention_mask'].to(device)\n",
    "            labels = input_ids.clone()\n",
    "            \n",
    "            outputs = model(input_ids=input_ids, attention_mask=attention_mask, labels=labels)\n",
    "            loss = outputs.loss\n",
    "            \n",
    "            # Log loss\n",
    "            detached_loss = loss.detach().cpu().item()\n",
    "            writer.add_scalar('Loss/eval', detached_loss, epoch * len(eval_dataloader) + batch_idx)\n",
    "            total_loss += detached_loss\n",
    "    \n",
    "    eval_loss.append(total_loss)\n",
    "    print(f'End of epoch: {epoch}')\n",
    "    print(f'Training loss: {train_loss[-1]}')\n",
    "    print(f'Eval loss: {eval_loss[-1]}')\n",
    "    print(' ')\n",
    "    \n",
    "    model.train()\n",
    "\n",
    "print('Training completed!')\n",
    "writer.close()"
   ],
   "metadata": {
    "collapsed": false
   },
   "id": "5ff3da0bebd28913"
  },
  {
   "cell_type": "code",
   "outputs": [],
   "source": [
    "torch.save(model, 'gpt_model.ph')"
   ],
   "metadata": {
    "collapsed": false
   },
   "id": "5e26c322b6954a6f"
  }
 ],
 "metadata": {
  "kernelspec": {
   "display_name": "Python 3",
   "language": "python",
   "name": "python3"
  },
  "language_info": {
   "codemirror_mode": {
    "name": "ipython",
    "version": 2
   },
   "file_extension": ".py",
   "mimetype": "text/x-python",
   "name": "python",
   "nbconvert_exporter": "python",
   "pygments_lexer": "ipython2",
   "version": "2.7.6"
  }
 },
 "nbformat": 4,
 "nbformat_minor": 5
}
